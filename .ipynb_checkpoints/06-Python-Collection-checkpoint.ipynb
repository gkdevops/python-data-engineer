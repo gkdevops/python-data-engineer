{
 "cells": [
  {
   "cell_type": "markdown",
   "id": "d9e18675-f9a5-4765-9897-f54999969439",
   "metadata": {},
   "source": [
    "## Python Collections (Arrays)\n",
    "There are four collection data types in the Python programming language:\n",
    "\n",
    "1. **List** is a collection which is ordered and changeable. Allows duplicate members.\n",
    "2. **Tuple** is a collection which is ordered and unchangeable. Allows duplicate members.\n",
    "3. **Set** is a collection which is unordered, unchangeable*, and unindexed. No duplicate members.\n",
    "4. **Dictionary** is a collection which is ordered** and changeable. No duplicate members."
   ]
  },
  {
   "cell_type": "code",
   "execution_count": null,
   "id": "dbd19668-fc06-41ab-8984-d915ae099a7d",
   "metadata": {},
   "outputs": [],
   "source": []
  },
  {
   "cell_type": "markdown",
   "id": "9d43496d-3b27-4327-a123-ecca9e23a9fc",
   "metadata": {},
   "source": [
    "### Example demonstrating all 4 collection types"
   ]
  },
  {
   "cell_type": "code",
   "execution_count": null,
   "id": "17e8f568-e475-4213-ab88-bd803d060a9f",
   "metadata": {
    "jupyter": {
     "source_hidden": true
    }
   },
   "outputs": [],
   "source": [
    "# Python program demonstrating all 4 collection types\n",
    "\n",
    "# 1. List - ordered, changeable, allows duplicates\n",
    "my_list = [\"apple\", \"banana\", \"cherry\", \"apple\"]\n",
    "print(\"List example:\")\n",
    "print(f\"Original list: {my_list}\")\n",
    "my_list.append(\"orange\")  # Lists are changeable\n",
    "print(f\"After adding 'orange': {my_list}\")\n",
    "print(f\"First item: {my_list[0]}\")  # Lists are ordered (indexed)\n",
    "print()\n",
    "\n",
    "# 2. Tuple - ordered, unchangeable, allows duplicates\n",
    "my_tuple = (\"apple\", \"banana\", \"cherry\", \"apple\")\n",
    "print(\"Tuple example:\")\n",
    "print(f\"Tuple: {my_tuple}\")\n",
    "print(f\"Second item: {my_tuple[1]}\")  # Tuples are ordered (indexed)\n",
    "# my_tuple[0] = \"orange\"  # This would cause an error - tuples are unchangeable\n",
    "print()\n",
    "\n",
    "# 3. Set - unordered, unchangeable items, no duplicates\n",
    "my_set = {\"apple\", \"banana\", \"cherry\", \"apple\"}  # Note: duplicate \"apple\" will be removed\n",
    "print(\"Set example:\")\n",
    "print(f\"Set: {my_set}\")  # Notice only one \"apple\" appears\n",
    "my_set.add(\"orange\")  # You can add items to a set\n",
    "print(f\"After adding 'orange': {my_set}\")\n",
    "# print(my_set[0])  # This would cause an error - sets are unordered and unindexed\n",
    "print()\n",
    "\n",
    "# 4. Dictionary - ordered, changeable, no duplicate keys\n",
    "my_dict = {\n",
    "    \"name\": \"John\",\n",
    "    \"age\": 30,\n",
    "    \"city\": \"New York\"\n",
    "}\n",
    "print(\"Dictionary example:\")\n",
    "print(f\"Dictionary: {my_dict}\")\n",
    "my_dict[\"email\"] = \"john@example.com\"  # Dictionaries are changeable\n",
    "print(f\"After adding email: {my_dict}\")\n",
    "print(f\"Value of 'name' key: {my_dict['name']}\")  # Access by key"
   ]
  },
  {
   "cell_type": "markdown",
   "id": "75bf38a6-8514-4e27-b66c-9919a11dbcf5",
   "metadata": {},
   "source": [
    "## Tuples in Python\n",
    "\n",
    "**What it is:** A tuple is an ordered, immutable collection of items.\n",
    "\n",
    "**Ordered:** The items are stored in a specific sequence, and that sequence will not change. You can access items by their index (e.g., the first item, the second item).\n",
    "**Immutable:** Once a tuple is created, you cannot change its contents. You can't add new items, remove existing items, or change an item at a specific position.\n",
    "Tuples are defined using parentheses ().\n",
    "In what situations will a Data Engineer/Data Analyst use it?\n",
    "\n",
    "**Representing Fixed Collections of Data** When you have a small, fixed set of related items where the order matters and the items shouldn't change.\n",
    "\n",
    "**Examples:**\n",
    "\n",
    "**Data Integrity:** When you want to pass around a collection of items and be absolutely sure they won't be accidentally modified.\n",
    "Example: Defining a set of constant column names that should be used consistently across a script.\n",
    "\n",
    "**Returning Multiple Values from a Function:** Functions in Python can only return a single \"object.\" Tuples are a very common and Pythonic way to return multiple values bundled together.\n",
    "Example: A data processing function might return (number_of_records_processed, number_of_errors)."
   ]
  },
  {
   "cell_type": "code",
   "execution_count": null,
   "id": "d6199c55-5871-46b1-a4cd-b05fb037fec4",
   "metadata": {},
   "outputs": [],
   "source": []
  },
  {
   "cell_type": "code",
   "execution_count": 6,
   "id": "7075410c-21af-4240-adb4-57981da3ad47",
   "metadata": {},
   "outputs": [
    {
     "name": "stdout",
     "output_type": "stream",
     "text": [
      "NYC Latitude: 40.7128\n",
      "NYC Longitude: -74.006\n",
      "Unpacked - Lat: 40.7128, Lon: -74.006\n",
      "(40.7128, -74.006)\n"
     ]
    }
   ],
   "source": [
    "location_coords = (40.7128, -74.0060) # New York City\n",
    "another_location = (34.0522, -118.2437) # Los Angeles\n",
    "\n",
    "print(f\"NYC Latitude: {location_coords[0]}\")\n",
    "print(f\"NYC Longitude: {location_coords[1]}\")\n",
    "\n",
    "# Attempting to change a value will raise an error\n",
    "#location_coords[0] = 41.0\n",
    "\n",
    "# You can assigning values of tuples to 2 variables\n",
    "lat, lon = location_coords\n",
    "print(f\"Unpacked - Lat: {lat}, Lon: {lon}\")\n",
    "\n",
    "print(location_coords)"
   ]
  },
  {
   "cell_type": "code",
   "execution_count": null,
   "id": "1f33a2bc-d307-4b67-b672-e2572d3a3f7d",
   "metadata": {},
   "outputs": [],
   "source": []
  },
  {
   "cell_type": "code",
   "execution_count": 7,
   "id": "5f8063a0-9a5b-453a-ab83-38c369389502",
   "metadata": {},
   "outputs": [
    {
     "name": "stdout",
     "output_type": "stream",
     "text": [
      "Expected column order: ('transaction_id', 'customer_id', 'amount', 'timestamp')\n",
      "The first expected column is: transaction_id\n",
      "Column order mismatch!\n"
     ]
    }
   ],
   "source": [
    "\n",
    "expected_columns = ('transaction_id', 'customer_id', 'amount', 'timestamp')\n",
    "\n",
    "print(f\"Expected column order: {expected_columns}\")\n",
    "print(f\"The first expected column is: {expected_columns[0]}\")\n",
    "\n",
    "# Imagine you receive data and check if its columns match\n",
    "received_columns = ['transaction_id', 'customer_id', 'timestamp', 'amount'] # This is a list\n",
    "\n",
    "if tuple(received_columns) == expected_columns:\n",
    "    print(\"Column order matches the expectation.\")\n",
    "else:\n",
    "    print(\"Column order mismatch!\")"
   ]
  },
  {
   "cell_type": "markdown",
   "id": "7b4e377c-1f39-4c7b-be8f-1e6965204f6c",
   "metadata": {},
   "source": [
    "## Sets in Python\n",
    "\n",
    "**What is a Set?**\n",
    "A set is an unordered collection of unique items. Think of it like a mathematical set. Key characteristics:\n",
    "\n",
    "**Unordered:** The elements in a set do not have a specific order. You cannot refer to an element by an index number.\n",
    "\n",
    "**Unique:** A set cannot contain duplicate values. If you try to add an element that's already present, the set remains unchanged.\n",
    "\n",
    "**Mutable:** You can add or remove elements from a set after it's created. (Note: The elements within a set must be of an immutable type, like numbers, strings, or tuples).\n",
    "\n",
    "-----------"
   ]
  },
  {
   "cell_type": "code",
   "execution_count": 8,
   "id": "4d1b0e29-92ca-451b-8099-d197ff187c43",
   "metadata": {},
   "outputs": [
    {
     "name": "stdout",
     "output_type": "stream",
     "text": [
      "Added 4 to set1: {1, 2, 3, 4}\n",
      "Added 6 and 7 to set2: {3, 4, 5, 6, 7}\n",
      "Removed 1 from set1: {2, 3, 4}\n",
      "Discarded 3 from set2: {4, 5, 6, 7}\n",
      "Current Set 1: {2, 3, 4}\n",
      "Current Set 2: {4, 5, 6, 7}\n",
      "Set 1 after clearing: set()\n"
     ]
    }
   ],
   "source": [
    "# A simple example to demonstrate sets\n",
    "\n",
    "# Creating sets\n",
    "set1 = {1, 2, 3}  # Set created using curly braces\n",
    "set2 = set([3, 4, 5])  # Set created from a list\n",
    "\n",
    "# Adding elements\n",
    "set1.add(4)  # Adds the element 4 to set1\n",
    "print(\"Added 4 to set1:\", set1)\n",
    "\n",
    "set2.update([6, 7])  # Adds multiple elements (6 and 7) to set2\n",
    "print(\"Added 6 and 7 to set2:\", set2)\n",
    "\n",
    "# Removing elements\n",
    "set1.remove(1)  # Removes the element 1 from set1 (raises error if not present)\n",
    "print(\"Removed 1 from set1:\", set1)\n",
    "\n",
    "set2.discard(3)  # Removes the element 3 from set2 (does nothing if not present)\n",
    "print(\"Discarded 3 from set2:\", set2)\n",
    "\n",
    "# Printing sets\n",
    "print(\"Current Set 1:\", set1)\n",
    "print(\"Current Set 2:\", set2)\n",
    "\n",
    "# Clearing a set\n",
    "set1.clear()  # Removes all elements from set1\n",
    "print(\"Set 1 after clearing:\", set1)"
   ]
  },
  {
   "cell_type": "markdown",
   "id": "0df3d008-c40a-4080-86c2-979f08bd3c8a",
   "metadata": {},
   "source": [
    "## Set Operations\n",
    "\n",
    "**Use Cases for Data Engineers/Data Analysts:**\n",
    "\n",
    "Data engineers and data analysts find sets extremely useful for several common tasks:\n",
    "\n",
    "**De-duplication/Finding Uniqueness:**\n",
    "\n",
    "**Use Case:** Quickly getting a list of unique customer IDs from a transaction log, unique product SKUs, or unique IP addresses from web server logs.\n",
    "Why sets? Their inherent property of storing only unique items makes this trivial. Converting a list to a set and back to a list is a common way to de-duplicate.\n",
    "Membership Testing (Fast Lookups):\n",
    "\n",
    "**Use Case:** Checking if a particular user ID exists in a large list of VIP customers, if a specific product is part of a promotional campaign, or if an encountered error code is in a list of known critical errors.\n",
    "Why sets? Sets are highly optimized for checking if an element is present (in operator). This is significantly faster than searching through a list, especially for large collections.\n",
    "Comparing Collections (Set Operations): This is where sets shine for analytical tasks:\n",
    "\n",
    "**Intersection (finding common elements):**\n",
    "Use Case: \"Which customers bought product A and product B?\" or \"Which users are active on our website and our mobile app?\"\n",
    "                                                          \n",
    "**Union (combining all unique elements):**\n",
    "Use Case: \"Get a list of all unique customers who interacted with marketing campaign X or campaign Y.\"\n",
    "                                                          \n",
    "**Difference (finding elements in one but not the other):**\n",
    "Use Case: \"Which customers made a purchase last month but not this month?\" or \"Which products are in warehouse A but not in warehouse B (data reconciliation)?\"\n",
    "                                                          \n",
    "**Symmetric Difference (finding elements in either, but not both):**\n",
    "Use Case: \"Identify items that are in list A or list B, but not common to both (highlighting discrepancies).\"\n",
    "\n",
    "---\n",
    "\n",
    "### Can Set Operations Be Used with Lists or Tuples?\n",
    "\n",
    "The set operations you mentioned—**intersection, union, difference, and symmetric difference**—are **natively supported only by sets** in Python.\n",
    "\n",
    "---\n",
    "\n",
    "### Why Only Sets?\n",
    "\n",
    "- **Sets** are designed for mathematical set operations.  \n",
    "  - They ensure all elements are unique.\n",
    "  - They provide optimized methods for these operations.\n",
    "- **Lists** and **tuples** can contain duplicates and maintain order, so they do **not** have built-in support for these set operations.\n",
    "\n",
    "---\n",
    "\n",
    "### What About Lists and Tuples?\n",
    "\n",
    "- **Lists** and **tuples** do **not** have methods like `.union()`, `.intersection()`, etc.\n",
    "- If you want to perform set operations on lists or tuples, you need to **convert them to sets first**.\n",
    "\n",
    "> **Example:**  \n",
    "> To find common elements between two lists, convert them to sets and then use set operations.\n",
    "\n",
    "---\n",
    "\n",
    "### Summary Table\n",
    "\n",
    "| Operation           | Sets | Lists | Tuples |\n",
    "|---------------------|:----:|:-----:|:------:|\n",
    "| Intersection        |  ✔️  |   ❌  |   ❌   |\n",
    "| Union               |  ✔️  |   ❌  |   ❌   |\n",
    "| Difference          |  ✔️  |   ❌  |   ❌   |\n",
    "| Symmetric Difference|  ✔️  |   ❌  |   ❌   |\n",
    "\n",
    "---\n",
    "\n",
    "### In Practice\n",
    "\n",
    "- **Use sets** when you need to perform these types of comparisons or analyses.\n",
    "- **Convert lists/tuples to sets** if you need to use set operations, then convert back if you need the result as a list or tuple."
   ]
  },
  {
   "cell_type": "code",
   "execution_count": null,
   "id": "ef1ac3f0-5a66-409a-b99b-23018b2c03b0",
   "metadata": {},
   "outputs": [],
   "source": []
  },
  {
   "cell_type": "code",
   "execution_count": 12,
   "id": "93d980ec-07c1-4dff-929c-d4eb7fc575e0",
   "metadata": {},
   "outputs": [
    {
     "name": "stdout",
     "output_type": "stream",
     "text": [
      "Union of set1 and set2 (all unique elements from both sets): {1, 2, 3, 4, 5}\n",
      "Intersection of set1 and set2 (common in both elements): {3}\n",
      "Difference of set1 and set2 (elements in set1 but not in set2): {1, 2}\n",
      "Symmetric difference of set1 and set2 (elements in either set, but not both): {1, 2, 4, 5}\n",
      "Is 4 in set1? False\n",
      "Elements in set2:\n",
      "3\n",
      "4\n",
      "5\n"
     ]
    }
   ],
   "source": [
    "# Creating sets\n",
    "set1 = {1, 2, 3}\n",
    "set2 = {3, 4, 5}\n",
    "\n",
    "# Set operations\n",
    "# Union combines all unique elements from both sets\n",
    "union_set = set1 | set2\n",
    "print(\"Union of set1 and set2 (all unique elements from both sets):\", union_set)\n",
    "\n",
    "# Intersection finds common elements between sets\n",
    "intersection_set = set1 & set2\n",
    "print(\"Intersection of set1 and set2 (common in both elements):\", intersection_set)\n",
    "\n",
    "# Difference finds elements in set1 but not in set2\n",
    "difference_set = set1 - set2\n",
    "print(\"Difference of set1 and set2 (elements in set1 but not in set2):\", difference_set)\n",
    "\n",
    "# Symmetric difference finds elements in either set, but not in both\n",
    "symmetric_difference_set = set2 ^ set1\n",
    "print(\"Symmetric difference of set1 and set2 (elements in either set, but not both):\", symmetric_difference_set)\n",
    "\n",
    "# Checking for membership\n",
    "print(\"Is 4 in set1?\", 4 in set1)  # Checks if 4 is an element of set1\n",
    "\n",
    "# Iterating through a set\n",
    "print(\"Elements in set2:\")\n",
    "for item in set2:\n",
    "    print(item)"
   ]
  },
  {
   "cell_type": "code",
   "execution_count": null,
   "id": "4e9cb965-59bb-4886-b68b-d5cca0a65c79",
   "metadata": {},
   "outputs": [],
   "source": []
  },
  {
   "cell_type": "markdown",
   "id": "0d800b69-fdaa-4dea-8064-639efeedf7b5",
   "metadata": {},
   "source": [
    "## Dictionary"
   ]
  },
  {
   "cell_type": "markdown",
   "id": "ebdbc83c-5501-44a0-97e2-e7f91d3236bf",
   "metadata": {},
   "source": [
    "A dictionary is an unordered (in Python versions before 3.7; ordered by insertion in Python 3.7+) collection of key-value pairs.\n",
    "\n",
    "**Key-Value Pairs:** Each item in a dictionary consists of a unique key and its associated value. {'key1': 'value1', 'key2': 'value2'}.\n",
    "Unique Keys: Keys within a dictionary must be unique. If you try to add a key that already exists, its value will be updated.\n",
    "**Immutable Keys:** Keys must be of an immutable type (e.g., strings, numbers, tuples). Values can be of any type (including lists or other dictionaries).\n",
    "**Mutable:** Dictionaries themselves are mutable. You can add, remove, or modify key-value pairs after creation.\n",
    "Fast Lookups: Dictionaries are highly optimized for retrieving a value when you know its key.\n",
    "Dictionaries are defined using curly braces {}.\n"
   ]
  },
  {
   "cell_type": "code",
   "execution_count": null,
   "id": "578f5a9b-ac6a-4996-baca-aa869f5d291c",
   "metadata": {},
   "outputs": [],
   "source": []
  },
  {
   "cell_type": "markdown",
   "id": "34df206e-49db-4244-a08f-e7bbb87dab6b",
   "metadata": {},
   "source": [
    "**Historically (Python < 3.7):** If you added {'name': 'Alice', 'age': 30, 'city': 'New York'}. When you looped through it, you might get age first, then city, then name, or some other arbitrary order. This order could even change between different runs of the same script or different Python versions (pre-3.7).\n",
    "\n",
    "**Currently (Python 3.7+):** If you add {'name': 'Alice', 'age': 30, 'city': 'New York'}. When you loop through it, you will reliably get name first, then age, then city."
   ]
  },
  {
   "cell_type": "code",
   "execution_count": null,
   "id": "39bcce03-6780-4a6c-a866-aaec7889cf75",
   "metadata": {},
   "outputs": [],
   "source": []
  },
  {
   "cell_type": "code",
   "execution_count": 14,
   "id": "11b4969b-80e7-4906-8dc4-514d3e536458",
   "metadata": {},
   "outputs": [
    {
     "name": "stdout",
     "output_type": "stream",
     "text": [
      "{'Germany': 'Berlin', 'Canada': 'Ottawa', 'England': 'London'}\n"
     ]
    }
   ],
   "source": [
    "# creating a dictionary\n",
    "country_capitals = {\n",
    "  \"Germany\": \"Berlin\", \n",
    "  \"Canada\": \"Ottawa\", \n",
    "  \"England\": \"London\"\n",
    "}\n",
    "\n",
    "# printing the dictionary\n",
    "print(country_capitals)"
   ]
  },
  {
   "cell_type": "code",
   "execution_count": null,
   "id": "9db6b42c-cdd8-4006-be60-6c2c25f326ef",
   "metadata": {},
   "outputs": [],
   "source": []
  },
  {
   "attachments": {
    "bbc2fd28-0925-434d-82c0-2e904617155a.png": {
     "image/png": "[encoded data removed]"
    }
   },
   "cell_type": "markdown",
   "id": "775821af-05f2-4b29-9cc8-d46cafde11ff",
   "metadata": {},
   "source": [
    "![image.png](attachment:bbc2fd28-0925-434d-82c0-2e904617155a.png)"
   ]
  },
  {
   "cell_type": "code",
   "execution_count": null,
   "id": "17031d4b-39bd-4b41-9ef4-98d255b0adbc",
   "metadata": {},
   "outputs": [],
   "source": []
  },
  {
   "cell_type": "code",
   "execution_count": 15,
   "id": "d742bd1b-a346-4503-9b4a-43a5eb07df19",
   "metadata": {},
   "outputs": [
    {
     "name": "stdout",
     "output_type": "stream",
     "text": [
      "Berlin\n",
      "London\n"
     ]
    }
   ],
   "source": [
    "country_capitals = {\n",
    "  \"Germany\": \"Berlin\", \n",
    "  \"Canada\": \"Ottawa\", \n",
    "  \"England\": \"London\"\n",
    "}\n",
    "\n",
    "# access the value of keys\n",
    "print(country_capitals[\"Germany\"])\n",
    "print(country_capitals[\"England\"])"
   ]
  },
  {
   "cell_type": "code",
   "execution_count": null,
   "id": "7a6c53b7-e209-4ba6-b88d-58232a2ce91e",
   "metadata": {},
   "outputs": [],
   "source": []
  },
  {
   "cell_type": "code",
   "execution_count": 16,
   "id": "1cc5ed4f-b367-4ed2-8145-59576ca3fd7f",
   "metadata": {},
   "outputs": [
    {
     "name": "stdout",
     "output_type": "stream",
     "text": [
      "{'Germany': 'Berlin', 'Canada': 'Ottawa', 'England': 'London', 'Italy': 'Rome'}\n"
     ]
    }
   ],
   "source": [
    "# add an item with \"Italy\" as key and \"Rome\" as its value\n",
    "country_capitals[\"Italy\"] = \"Rome\"\n",
    "\n",
    "print(country_capitals)"
   ]
  },
  {
   "cell_type": "code",
   "execution_count": null,
   "id": "68e077be-b7a4-493c-a6a3-6eca8e68e3f6",
   "metadata": {},
   "outputs": [],
   "source": []
  },
  {
   "cell_type": "code",
   "execution_count": 17,
   "id": "49c0cf8c-3eeb-4a51-909f-df049c9a0f48",
   "metadata": {},
   "outputs": [
    {
     "name": "stdout",
     "output_type": "stream",
     "text": [
      "{'Canada': 'Ottawa', 'England': 'London', 'Italy': 'Rome'}\n"
     ]
    }
   ],
   "source": [
    "# delete item having \"Germany\" key\n",
    "del country_capitals[\"Germany\"]\n",
    "\n",
    "print(country_capitals)"
   ]
  },
  {
   "cell_type": "code",
   "execution_count": null,
   "id": "131936e3-902f-4170-b8f0-fd9675b313c1",
   "metadata": {},
   "outputs": [],
   "source": []
  },
  {
   "cell_type": "code",
   "execution_count": 18,
   "id": "742740cc-0bc5-4517-976f-989d9b50a71d",
   "metadata": {},
   "outputs": [
    {
     "name": "stdout",
     "output_type": "stream",
     "text": [
      "{}\n"
     ]
    }
   ],
   "source": [
    "# clear the dictionary\n",
    "country_capitals.clear()\n",
    "\n",
    "print(country_capitals)  "
   ]
  },
  {
   "cell_type": "code",
   "execution_count": null,
   "id": "378bf8f3-41fe-4f55-95b0-622e1189eaad",
   "metadata": {},
   "outputs": [],
   "source": []
  },
  {
   "cell_type": "code",
   "execution_count": 20,
   "id": "826a2a54-98b9-43d4-b39d-abb906dfb983",
   "metadata": {},
   "outputs": [],
   "source": [
    "job_roles = [\n",
    "    {'role': 'Data Engineer - AWS', 'skills': ['Python', 'AWS Glue', 'AWS Lambda', 'S3', 'Redshift', 'SQL', 'Apache Spark']},\n",
    "    {'role': 'Data Engineer - Azure', 'skills': ['Python', 'Azure Data Factory', 'Apache Spark', 'Kubernetes', 'Apache Synapse Analytics', 'SQL', 'Pandas']},\n",
    "    {'role': 'Data Engineer - GCP', 'skills': ['Python', 'Cloud Dataflow', 'Cloud Functions', 'Cloud Storage', 'BigQuery', 'SQL']},\n",
    "    {'role': 'Data Engineer - Batch Processing', 'skills': ['Python', 'Apache Spark', 'Hadoop', 'SQL', 'Java', 'Scala']},\n",
    "    {'role': 'Data Engineer - Cloud Native', 'skills': ['Python', 'Kubernetes', 'Docker', 'Serverless', 'AWS Lambda', 'Azure Data Factory', 'Google Cloud Functions', 'Pandas']},\n",
    "    {'role': 'Data Engineer - Real-time Data', 'skills': ['Python', 'Apache Kafka', 'Apache Flink', 'Spark Streaming', 'SQL', 'NoSQL']},\n",
    "    {'role': 'Data Engineer - Data Warehousing', 'skills': ['SQL', 'ETL Tools', 'Data Modeling', 'Snowflake', 'Redshift', 'Azure Synapse Analytics']},\n",
    "    {'role': 'Data Engineer - Data Lake', 'skills': ['Python', 'Hadoop', 'Spark', 'AWS S3', 'Azure Data Lake Storage', 'Google Cloud Storage']},\n",
    "    {'role': 'Data Engineer - Database', 'skills': ['SQL', 'Database Administration', 'Data Modeling', 'Oracle', 'MySQL', 'PostgreSQL', 'Kubernetes']},\n",
    "    {'role': 'Data Engineer - MLOps', 'skills': ['Python', 'Kubernetes', 'Docker', 'MLflow', 'CI/CD', 'Cloud Platforms (AWS, Azure, GCP)']}\n",
    "]\n",
    "\n",
    "my_skills = ['Azure Data Factory', 'Apache Spark', 'SQL', 'Kubernetes', 'Pandas']"
   ]
  },
  {
   "cell_type": "code",
   "execution_count": 21,
   "id": "1fe8b974",
   "metadata": {},
   "outputs": [
    {
     "data": {
      "text/plain": [
       "list"
      ]
     },
     "execution_count": 21,
     "metadata": {},
     "output_type": "execute_result"
    }
   ],
   "source": [
    "type(job_roles)"
   ]
  },
  {
   "cell_type": "code",
   "execution_count": 24,
   "id": "77369f1d-0ed0-4e66-a05b-556626aa0020",
   "metadata": {},
   "outputs": [
    {
     "name": "stdout",
     "output_type": "stream",
     "text": [
      "{'role': 'Data Engineer - AWS', 'skills': ['Python', 'AWS Glue', 'AWS Lambda', 'S3', 'Redshift', 'SQL', 'Apache Spark']}\n",
      "{'role': 'Data Engineer - Azure', 'skills': ['Python', 'Azure Data Factory', 'Apache Spark', 'Kubernetes', 'Apache Synapse Analytics', 'SQL', 'Pandas']}\n",
      "{'role': 'Data Engineer - GCP', 'skills': ['Python', 'Cloud Dataflow', 'Cloud Functions', 'Cloud Storage', 'BigQuery', 'SQL']}\n",
      "{'role': 'Data Engineer - Batch Processing', 'skills': ['Python', 'Apache Spark', 'Hadoop', 'SQL', 'Java', 'Scala']}\n",
      "{'role': 'Data Engineer - Cloud Native', 'skills': ['Python', 'Kubernetes', 'Docker', 'Serverless', 'AWS Lambda', 'Azure Data Factory', 'Google Cloud Functions', 'Pandas']}\n",
      "{'role': 'Data Engineer - Real-time Data', 'skills': ['Python', 'Apache Kafka', 'Apache Flink', 'Spark Streaming', 'SQL', 'NoSQL']}\n",
      "{'role': 'Data Engineer - Data Warehousing', 'skills': ['SQL', 'ETL Tools', 'Data Modeling', 'Snowflake', 'Redshift', 'Azure Synapse Analytics']}\n",
      "{'role': 'Data Engineer - Data Lake', 'skills': ['Python', 'Hadoop', 'Spark', 'AWS S3', 'Azure Data Lake Storage', 'Google Cloud Storage']}\n",
      "{'role': 'Data Engineer - Database', 'skills': ['SQL', 'Database Administration', 'Data Modeling', 'Oracle', 'MySQL', 'PostgreSQL', 'Kubernetes']}\n",
      "{'role': 'Data Engineer - MLOps', 'skills': ['Python', 'Kubernetes', 'Docker', 'MLflow', 'CI/CD', 'Cloud Platforms (AWS, Azure, GCP)']}\n"
     ]
    }
   ],
   "source": [
    "for job in job_roles:\n",
    "    print(job)"
   ]
  },
  {
   "cell_type": "code",
   "execution_count": null,
   "id": "4c24fe11-945d-4297-b2ff-bd3acc1cb919",
   "metadata": {},
   "outputs": [],
   "source": []
  },
  {
   "cell_type": "code",
   "execution_count": 26,
   "id": "6c18cda2-a089-4f00-94db-43a0e21da2dc",
   "metadata": {},
   "outputs": [
    {
     "name": "stdout",
     "output_type": "stream",
     "text": [
      "['Python', 'AWS Glue', 'AWS Lambda', 'S3', 'Redshift', 'SQL', 'Apache Spark']\n",
      "['Python', 'Azure Data Factory', 'Apache Spark', 'Kubernetes', 'Apache Synapse Analytics', 'SQL', 'Pandas']\n",
      "['Python', 'Cloud Dataflow', 'Cloud Functions', 'Cloud Storage', 'BigQuery', 'SQL']\n",
      "['Python', 'Apache Spark', 'Hadoop', 'SQL', 'Java', 'Scala']\n",
      "['Python', 'Kubernetes', 'Docker', 'Serverless', 'AWS Lambda', 'Azure Data Factory', 'Google Cloud Functions', 'Pandas']\n",
      "['Python', 'Apache Kafka', 'Apache Flink', 'Spark Streaming', 'SQL', 'NoSQL']\n",
      "['SQL', 'ETL Tools', 'Data Modeling', 'Snowflake', 'Redshift', 'Azure Synapse Analytics']\n",
      "['Python', 'Hadoop', 'Spark', 'AWS S3', 'Azure Data Lake Storage', 'Google Cloud Storage']\n",
      "['SQL', 'Database Administration', 'Data Modeling', 'Oracle', 'MySQL', 'PostgreSQL', 'Kubernetes']\n",
      "['Python', 'Kubernetes', 'Docker', 'MLflow', 'CI/CD', 'Cloud Platforms (AWS, Azure, GCP)']\n"
     ]
    }
   ],
   "source": [
    "for job in job_roles:\n",
    "    print(job['skills'])"
   ]
  },
  {
   "cell_type": "code",
   "execution_count": null,
   "id": "eacc68f4-fb8c-4590-b763-6351b6ccc3e1",
   "metadata": {},
   "outputs": [],
   "source": []
  },
  {
   "cell_type": "code",
   "execution_count": 27,
   "id": "46a332ee-5bd7-49fc-a370-40cb1828167b",
   "metadata": {},
   "outputs": [
    {
     "name": "stdout",
     "output_type": "stream",
     "text": [
      "Azure Data Factory\n",
      "Apache Spark\n",
      "SQL\n",
      "Kubernetes\n",
      "Pandas\n"
     ]
    }
   ],
   "source": [
    "for skill in my_skills:\n",
    "    print(skill)"
   ]
  },
  {
   "cell_type": "code",
   "execution_count": null,
   "id": "acc19f9d-3d6f-4bd9-98cd-9dff3135cce1",
   "metadata": {},
   "outputs": [],
   "source": []
  },
  {
   "cell_type": "code",
   "execution_count": null,
   "id": "b7381018-9cdf-457c-82ef-329bca8f7023",
   "metadata": {},
   "outputs": [],
   "source": [
    "for job in job_roles:\n",
    "    for skill in my_skills:\n",
    "        print(skill)\n",
    "        print(job['skills'])"
   ]
  },
  {
   "cell_type": "code",
   "execution_count": null,
   "id": "293aec2e-7fc2-4af8-90fa-a14ce96a85d3",
   "metadata": {},
   "outputs": [],
   "source": []
  },
  {
   "cell_type": "code",
   "execution_count": null,
   "id": "37ab4180-9b93-434c-843f-8d40e69c491a",
   "metadata": {},
   "outputs": [],
   "source": [
    "for job in job_roles:\n",
    "    for skill in my_skills:\n",
    "        if skill in job['skills']:\n",
    "            print(skill)\n",
    "            print(job)"
   ]
  },
  {
   "cell_type": "code",
   "execution_count": null,
   "id": "4018d31e-9ca5-4812-b216-6057e451ef63",
   "metadata": {},
   "outputs": [],
   "source": []
  },
  {
   "cell_type": "code",
   "execution_count": null,
   "id": "ce916230-9317-42c1-9133-2594ed3658bf",
   "metadata": {},
   "outputs": [],
   "source": [
    "for job in job_roles:\n",
    "    qualified = True\n",
    "    \n",
    "    for skill in my_skills:\n",
    "        if skill in job['skills']:\n",
    "            print(skill)\n",
    "            print(job['skills'])"
   ]
  },
  {
   "cell_type": "code",
   "execution_count": null,
   "id": "70b86e7a-80e8-483f-aa95-010a949a49a3",
   "metadata": {},
   "outputs": [],
   "source": []
  },
  {
   "cell_type": "code",
   "execution_count": 37,
   "id": "82c50145-fc4a-40dd-8ebe-771834880aee",
   "metadata": {},
   "outputs": [
    {
     "name": "stdout",
     "output_type": "stream",
     "text": [
      "\n",
      "Role: Data Engineer - AWS - Match Percentage: 42.9%\n",
      "\n",
      "Role: Data Engineer - Azure - Match Percentage: 71.4%\n",
      "\n",
      "Role: Data Engineer - GCP - Match Percentage: 33.3%\n",
      "\n",
      "Role: Data Engineer - Batch Processing - Match Percentage: 50.0%\n",
      "\n",
      "Role: Data Engineer - Cloud Native - Match Percentage: 37.5%\n",
      "\n",
      "Role: Data Engineer - Real-time Data - Match Percentage: 33.3%\n",
      "\n",
      "Role: Data Engineer - Data Warehousing - Match Percentage: 16.7%\n",
      "\n",
      "Role: Data Engineer - Data Lake - Match Percentage: 16.7%\n",
      "\n",
      "Role: Data Engineer - Database - Match Percentage: 14.3%\n",
      "\n",
      "Role: Data Engineer - MLOps - Match Percentage: 16.7%\n"
     ]
    }
   ],
   "source": [
    "myskills = ['Azure Data Factory', 'Python', 'SQL', 'Apache Spark', 'Pandas']\n",
    "\n",
    "# Function to calculate skill match percentage\n",
    "def calculate_match(required_skills, my_skills):\n",
    "    matching_skills = set(required_skills) & set(my_skills)\n",
    "    return (len(matching_skills) / len(required_skills)) * 100\n",
    "\n",
    "# Loop through each job role and check skills match\n",
    "for job in job_roles:\n",
    "    matching_skills = set(job['skills']) & set(myskills)\n",
    "    match_percentage = calculate_match(job['skills'], myskills)\n",
    "\n",
    "    print(f\"\\nRole: {job['role']} - Match Percentage: {match_percentage:.1f}%\")"
   ]
  },
  {
   "cell_type": "code",
   "execution_count": null,
   "id": "8f135b09-9a1f-4eda-a8f1-fd008cae5f22",
   "metadata": {},
   "outputs": [],
   "source": []
  },
  {
   "cell_type": "code",
   "execution_count": null,
   "id": "e5509378-9646-4a5b-8cfb-a926e517acdd",
   "metadata": {},
   "outputs": [],
   "source": []
  },
  {
   "cell_type": "code",
   "execution_count": null,
   "id": "67963888-876f-405c-ae6e-e7f264cd71d0",
   "metadata": {},
   "outputs": [],
   "source": []
  },
  {
   "cell_type": "code",
   "execution_count": null,
   "id": "78ce37ef-d0f8-41fb-a39d-3b7a32dc3140",
   "metadata": {},
   "outputs": [],
   "source": []
  },
  {
   "cell_type": "code",
   "execution_count": null,
   "id": "e6199fc3-a571-4983-8484-e6c85de6892a",
   "metadata": {},
   "outputs": [],
   "source": []
  },
  {
   "cell_type": "code",
   "execution_count": null,
   "id": "477defcf-60e2-4d57-9605-10ad26308afe",
   "metadata": {},
   "outputs": [],
   "source": []
  },
  {
   "cell_type": "code",
   "execution_count": null,
   "id": "0b7c53d5-e933-487d-b586-671bdab51049",
   "metadata": {},
   "outputs": [],
   "source": []
  },
  {
   "cell_type": "code",
   "execution_count": null,
   "id": "52e89292-9b3d-488b-a34e-720b55ed21f0",
   "metadata": {},
   "outputs": [],
   "source": []
  }
 ],
 "metadata": {
  "kernelspec": {
   "display_name": "Python [conda env:base] *",
   "language": "python",
   "name": "conda-base-py"
  },
  "language_info": {
   "codemirror_mode": {
    "name": "ipython",
    "version": 3
   },
   "file_extension": ".py",
   "mimetype": "text/x-python",
   "name": "python",
   "nbconvert_exporter": "python",
   "pygments_lexer": "ipython3",
   "version": "3.13.5"
  }
 },
 "nbformat": 4,
 "nbformat_minor": 5
}
