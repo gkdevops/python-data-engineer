{
 "cells": [
  {
   "cell_type": "markdown",
   "id": "65e372a4-c0e8-4d84-835f-4358c4370165",
   "metadata": {},
   "source": [
    "## Loops\n",
    "\n",
    "**Sequential Loops**\n",
    "\n",
    "When any program is executed, it runs sequentially.\n",
    "\n",
    "The statement which appears first in\n",
    "the sequence is executed first then the next statement and so on till the last statement of\n",
    "the program. Many times there is a requirement to run same block of code in a program\n",
    "multiple times then there arise a need of a control structure known as loops.\n",
    "\n",
    "A loop makes a statement or group of statements in a block of code to execute multiple\n",
    "times if the condition is true and exits the loop when the condition becomes false. \n",
    "\n"
   ]
  },
  {
   "cell_type": "code",
   "execution_count": null,
   "id": "a0b96f5d-7d38-46c4-9ad9-a2a3a0f5c8d8",
   "metadata": {},
   "outputs": [],
   "source": []
  },
  {
   "cell_type": "markdown",
   "id": "76b87c35-b6e0-47a2-9c45-a1c9ea48871e",
   "metadata": {},
   "source": [
    "**Python has two main types of loops:**\n",
    "\n",
    "<span style=\"color:green\">for</span> loop - Used <span style=\"color:green\">for</span> iterating over a sequence (like a list, <span style=\"color:green\">tuple</span>, dictionary, <span style=\"color:green\">set</span>, <span style=\"color:green\">or</span> string).\n",
    "\n",
    "<span style=\"color:green\">while</span> loop - Repeats <span style=\"color:green\">as</span> long <span style=\"color:green\">as</span> a condition <span style=\"color:green\">is True</span>.\n",
    "\n",
    "Additionally, you can use nested loops (a loop inside another loop), but these are just combinations of the above two."
   ]
  },
  {
   "cell_type": "code",
   "execution_count": null,
   "id": "017ae9da-8d69-4e7d-a769-a0edb3ec8260",
   "metadata": {},
   "outputs": [],
   "source": []
  },
  {
   "cell_type": "code",
   "execution_count": null,
   "id": "221b360c-c6b6-467b-b582-fe695b220602",
   "metadata": {},
   "outputs": [],
   "source": []
  },
  {
   "cell_type": "code",
   "execution_count": 1,
   "id": "9fbf158a-3605-4bb7-bd86-8a0674d76596",
   "metadata": {},
   "outputs": [
    {
     "name": "stdout",
     "output_type": "stream",
     "text": [
      "Processing column: name\n",
      "Processing column: age\n",
      "Processing column: salary\n",
      "Processing column: department\n",
      "This is a new code block\n"
     ]
    }
   ],
   "source": [
    "columns = ['name', 'age', 'salary', 'department']\n",
    "\n",
    "for i in columns:\n",
    "    #print(col)\n",
    "    print(f\"Processing column: {i}\")\n",
    "\n",
    "print(\"This is a new code block\")"
   ]
  },
  {
   "cell_type": "code",
   "execution_count": null,
   "id": "76e4005d-df52-44c7-9b2a-1fadca358737",
   "metadata": {},
   "outputs": [],
   "source": []
  },
  {
   "cell_type": "code",
   "execution_count": 7,
   "id": "8cf4d7ee-5eeb-4b6c-8f55-9948ea1ba127",
   "metadata": {},
   "outputs": [
    {
     "name": "stdout",
     "output_type": "stream",
     "text": [
      "Total sales: 800\n"
     ]
    }
   ],
   "source": [
    "sales = [100, 200, 150, 350]\n",
    "total = 0 # try removing total=0\n",
    "\n",
    "for amount in sales:\n",
    "    total += amount\n",
    "    #print(total)\n",
    "\n",
    "print(f\"Total sales: {total}\")"
   ]
  },
  {
   "cell_type": "code",
   "execution_count": null,
   "id": "9821beb4-9720-4002-8691-8ecebb36f92a",
   "metadata": {},
   "outputs": [],
   "source": []
  },
  {
   "cell_type": "code",
   "execution_count": null,
   "id": "b2745591-e0bf-473c-af37-871678142836",
   "metadata": {},
   "outputs": [],
   "source": []
  },
  {
   "cell_type": "code",
   "execution_count": 20,
   "id": "0c509620-b623-4697-96e6-a352a110c973",
   "metadata": {},
   "outputs": [
    {
     "name": "stdout",
     "output_type": "stream",
     "text": [
      "{'electronics': 670, 'groceries': 120, 'clothing': 225}\n"
     ]
    }
   ],
   "source": [
    "# Analyzing customer transaction data\n",
    "\n",
    "transactions = [\n",
    "    {\"customer_id\": 101, \"amount\": 250, \"category\": \"electronics\"},\n",
    "    {\"customer_id\": 102, \"amount\": 120, \"category\": \"groceries\"},\n",
    "    {\"customer_id\": 101, \"amount\": 75, \"category\": \"clothing\"},\n",
    "    {\"customer_id\": 103, \"amount\": 420, \"category\": \"electronics\"},\n",
    "    {\"customer_id\": 102, \"amount\": 150, \"category\": \"clothing\"}\n",
    "]\n",
    "\n",
    "total_by_category = {}\n",
    "\n",
    "for transaction in transactions:\n",
    "    category = transaction[\"category\"]\n",
    "    if category in total_by_category:\n",
    "        total_by_category[category] += transaction[\"amount\"]\n",
    "    else:\n",
    "        total_by_category[category] = transaction[\"amount\"]\n",
    "        \n",
    "print(total_by_category)"
   ]
  },
  {
   "cell_type": "code",
   "execution_count": null,
   "id": "3c054fdd-5c60-4ef2-8bbe-0ceb39f4427e",
   "metadata": {},
   "outputs": [],
   "source": []
  },
  {
   "cell_type": "code",
   "execution_count": null,
   "id": "d5d4ff81-d8f0-4541-a5d8-180569057a80",
   "metadata": {},
   "outputs": [],
   "source": []
  },
  {
   "cell_type": "markdown",
   "id": "d9a2aa95-e610-4726-856b-1936b4b08a59",
   "metadata": {},
   "source": [
    "while Loop Syntax\n",
    "```\n",
    "while condition:\n",
    "    # body of while loop\n",
    "```\n",
    "\n",
    "Here\n",
    "\n",
    "1. The while loop evaluates condition, which is a boolean expression.\n",
    "2. If the condition is True, body of while loop is executed. The condition is evaluated again.\n",
    "3. This process continues until the condition is False.\n",
    "4. Once the condition evaluates to False, the loop terminates."
   ]
  },
  {
   "cell_type": "code",
   "execution_count": null,
   "id": "22f5c245-ea61-4601-aad5-a3fb8c496ab9",
   "metadata": {},
   "outputs": [],
   "source": []
  },
  {
   "cell_type": "code",
   "execution_count": 8,
   "id": "02b08fe7-ff5c-4bdb-87da-e3483c397205",
   "metadata": {},
   "outputs": [
    {
     "name": "stdout",
     "output_type": "stream",
     "text": [
      "1\n",
      "2\n",
      "3\n"
     ]
    }
   ],
   "source": [
    "number = 1\n",
    "\n",
    "while number <= 3:\n",
    "    print(number)\n",
    "    number = number + 1"
   ]
  },
  {
   "cell_type": "code",
   "execution_count": null,
   "id": "68c27f5f-f736-451b-b166-d76181b55bd6",
   "metadata": {},
   "outputs": [],
   "source": []
  },
  {
   "cell_type": "code",
   "execution_count": 12,
   "id": "e4fa56ef-d204-4319-ab30-6b3bed2977f3",
   "metadata": {},
   "outputs": [
    {
     "name": "stdout",
     "output_type": "stream",
     "text": [
      "[1, 2, 3, 4, 5, 6, 7, 8, 9]\n",
      "[3, 4, 5]\n",
      "7\n"
     ]
    }
   ],
   "source": [
    "data = [1, 2, 3, 4, 5, 6, 7, 8, 9]\n",
    "\n",
    "print(data)\n",
    "print(data[2:5])\n",
    "print(data[6])"
   ]
  },
  {
   "cell_type": "code",
   "execution_count": null,
   "id": "c0ce0773-956e-4773-bc2a-3b8b05630b9a",
   "metadata": {},
   "outputs": [],
   "source": []
  },
  {
   "cell_type": "code",
   "execution_count": 22,
   "id": "359f02b6-6c8e-4f97-a3b5-b79f49bdbfc1",
   "metadata": {},
   "outputs": [
    {
     "name": "stdout",
     "output_type": "stream",
     "text": [
      "Processing chunk: [1, 2, 3]\n",
      "Processing chunk: [4, 5, 6]\n",
      "Processing chunk: [7, 8, 9]\n"
     ]
    }
   ],
   "source": [
    "# print chunks of list\n",
    "\n",
    "data = [1, 2, 3, 4, 5, 6, 7, 8, 9]\n",
    "chunk_size = 3\n",
    "i = 0\n",
    "\n",
    "while i < len(data):\n",
    "    chunk = data[i:i+chunk_size]\n",
    "    print(f\"Processing chunk: {chunk}\")\n",
    "    i += chunk_size"
   ]
  },
  {
   "cell_type": "code",
   "execution_count": null,
   "id": "bfc34642-d527-4648-b4d6-a1facca14f4e",
   "metadata": {},
   "outputs": [],
   "source": []
  },
  {
   "cell_type": "code",
   "execution_count": null,
   "id": "cf2b3150-5080-42df-b8c5-7ab276a6ad6c",
   "metadata": {},
   "outputs": [],
   "source": [
    "# Print numbers until the user enters 0\n",
    "number = int(input('Enter a number: '))\n",
    "\n",
    "# iterate until the user enters 0\n",
    "while number != 0:\n",
    "    print(f'You entered {number}.')\n",
    "    number = int(input('Enter a number: '))\n",
    "\n",
    "print('The end.')"
   ]
  },
  {
   "cell_type": "code",
   "execution_count": null,
   "id": "85e5faa3-c522-4f52-9c50-f10d5125c7c6",
   "metadata": {},
   "outputs": [],
   "source": []
  },
  {
   "cell_type": "code",
   "execution_count": null,
   "id": "87e288d5-7944-43c0-b14a-459596e0f92b",
   "metadata": {},
   "outputs": [],
   "source": []
  }
 ],
 "metadata": {
  "kernelspec": {
   "display_name": "Python [conda env:base] *",
   "language": "python",
   "name": "conda-base-py"
  },
  "language_info": {
   "codemirror_mode": {
    "name": "ipython",
    "version": 3
   },
   "file_extension": ".py",
   "mimetype": "text/x-python",
   "name": "python",
   "nbconvert_exporter": "python",
   "pygments_lexer": "ipython3",
   "version": "3.13.5"
  }
 },
 "nbformat": 4,
 "nbformat_minor": 5
}
